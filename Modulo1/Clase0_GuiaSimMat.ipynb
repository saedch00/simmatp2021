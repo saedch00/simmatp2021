{
 "cells": [
  {
   "cell_type": "markdown",
   "metadata": {},
   "source": [
    "___\n",
    "<img style=\"float: right; margin: 0px 0px 15px 15px;\" src=\"https://upload.wikimedia.org/wikipedia/commons/thumb/4/4a/Python3-powered_hello-world.svg/1000px-Python3-powered_hello-world.svg.png\" width=\"300px\" height=\"100px\" />\n",
    "\n",
    "\n",
    "# <font color= #8A0829> Simulación matemática.</font>\n",
    "#### <font color= #2E9AFE>  `Martes-Viernes (Videoconferencia) de 13:00 a 15:00 hrs`</font>\n",
    "- <Strong> Esteban Jiménez Rodríguez </Strong>\n",
    "- <Strong> Año </Strong>: 2021\n",
    "- <Strong> Copyright: </Strong> MIT, excepto donde se indique lo contrario.\n",
    "\n",
    "- <Strong> Email: </Strong>  <font color=\"blue\"> `esjimenezro@iteso.mx, esjimenezro@gmail.com` </font>\n",
    "___"
   ]
  },
  {
   "cell_type": "markdown",
   "metadata": {},
   "source": [
    "### `Presentación mía`\n",
    "___"
   ]
  },
  {
   "cell_type": "markdown",
   "metadata": {},
   "source": [
    "### `Presentación de ustedes`\n",
    "___"
   ]
  },
  {
   "cell_type": "markdown",
   "metadata": {},
   "source": [
    "### `Algunas reglas de juego`\n",
    "\n",
    "[Normas mínimas disciplinarias](https://www.dropbox.com/s/sbez0e0rv34na14/NORMAS_MINIMAS_DISCIPLINARIAS.pdf?dl=0)\n",
    "\n",
    "- Todas las entregas deben hacerse através de los espacios provistos en canvas, a menos que se especifique lo contrario.\n",
    "- No se recibirán entregas por ningún otro medio. Sin excepción.\n",
    "___"
   ]
  },
  {
   "cell_type": "markdown",
   "metadata": {},
   "source": [
    "### `Horario de asesoría`\n",
    "\n",
    "Martes de 15:00 - 16:00.\n",
    "___"
   ]
  },
  {
   "cell_type": "markdown",
   "metadata": {},
   "source": [
    "### `Descripción de la asignatura`\n",
    "\n",
    "*Este es un curso básico de simulación utilizando python, por ende vamos a iniciar elaborando programas simples y conforme avancemos el nivel de exigencia aumentará.*\n",
    "\n",
    "- Problemas de ingeniería: requieren soluciones adecuadas, eficientes y óptimas.\n",
    "- La simulación matemática de escenarios es una estrategia relevante para resolver tales problemas, consiste en modelar numéricamente los principios físicos y matemáticos que rigen un fenómeno mediante el uso de lenguajes de modelado y herramientas de tecnologías de información.\n",
    "- La asignatura está diseñada para que logres dichos propósitos e inicies un proceso que te permita apropiarte de desempeños profesionales muy útiles en tu formación profesional y en tu futuro, al incorporarte a la industria u organizaciones que te demandarán resolver e implementar la simulación de escenarios bajo diferentes situaciones a través de la sistematización de la solución al problema planteado."
   ]
  },
  {
   "cell_type": "markdown",
   "metadata": {},
   "source": [
    "#### `OBJETIVO GENERAL `\n",
    ">  <p style='text-align: justify;'> A partir de la modelación de fenómenos físicos desarrollarás las competencias necesarias para reproducir escenarios de aplicación profesional que representen de manera más cercana el fenómeno objetivo. Podrás además realizar inferencias que ayuden a la óptima toma de decisiones en la solución de problemas.</p>"
   ]
  },
  {
   "cell_type": "markdown",
   "metadata": {},
   "source": [
    "`Módulo 1.` **Optimización**\n",
    "> Se evaluará una presentación de **proyecto.**\n",
    "   1. ¿Qué es una simulación?\n",
    "      - Introducción e instalación de software\n",
    "      - Uso de Markdown\n",
    "      - Control de versiones con git\n",
    "   2. Optimización de funciones de variable escalar con SymPy\n",
    "   3. Programación Lineal\n",
    "   5. Ajuste de curvas\n",
    "   7. Clasificación binaria"
   ]
  },
  {
   "cell_type": "markdown",
   "metadata": {},
   "source": [
    "`Módulo 2.`  **Montecarlo**\n",
    "> Se evaluará una presentación de **proyecto.**\n",
    "   1. Generación de números aleatorios\n",
    "      - Generación de variables aleatorias (Uniforme, triangular, exponencial).\n",
    "      - Simulación de una fila un servidor (fila de un banco, cafetería, etc).\n",
    "   2. Caminata aleatoria\n",
    "   3. Integrales\n",
    "   4. Fractales aleatorios\n",
    "   5. Bajar y organizar datos de Yahoo Finance (Pandas)\n",
    "   6. Probabilidad precio-umbral"
   ]
  },
  {
   "cell_type": "markdown",
   "metadata": {},
   "source": [
    "`Módulo 3.`  **Ecuaciones diferenciales**\n",
    "> Se evaluará una presentación de **proyecto.**\n",
    "   1. Introducción a ecuaciones diferenciales\n",
    "   2. ¿Cómo se muve un péndulo?\n",
    "   3. ¿Cómo funciona la suspensión de un auto?\n",
    "   4. ¿Cómo crece una población?\n",
    "   5. Modelo del rendimiento de una cuenta de ahorro"
   ]
  },
  {
   "cell_type": "markdown",
   "metadata": {},
   "source": [
    "### `Evaluación`\n",
    "\n",
    "- 3 Proyectos (trabajo en equipo) 45%\n",
    "  - Cada proyecto tiene un valor del 15% \n",
    "    - La evaluación de cada proyecto se divide en dos partes \n",
    "      - Reporte     7.5%\n",
    "      - Exposición  7.5% \n",
    "  - Equipos de 2 integrantes mínimo y 3 máximo. *Esto no se negocia*.\n",
    "  - Si durante algún proyecto las cosas no funcionan entre los integrantes, para el siguiente proyecto se pueden formar equipos nuevos.\n",
    "- Examen final  19%\n",
    "- Quices 16%\n",
    "- Tareas 20%\n",
    "  - La evaluación de cada tarea se divide en dos partes \n",
    "    - Primera entrega     30%\n",
    "    - Segunda entrega     70% \n",
    "    - Si sacan 100 en la primera entrega, no es necesario hacer la segunda entrega.\n",
    "    - Si sacan menos de 100 en la primera entrega, y no realizan las correcciones para la segunda entrega, se calificará como si no se hubiera hecho segunda entrega.\n",
    "    - Si sacan menos de 100 en la primera entrega, y no realizan segunda entrega, se calificará como si no se hubiera hecho segunda entrega.\n",
    "    - Para tener derecho a segunda entrega, deben realizar la primera entrega."
   ]
  },
  {
   "cell_type": "markdown",
   "metadata": {},
   "source": [
    "### `Bibliografía `"
   ]
  },
  {
   "cell_type": "markdown",
   "metadata": {},
   "source": [
    "- Process Dynamics: Modeling, Analysis and Simulation by B. Wayne Bequette\n",
    "- Stochastic Simulation and Applications in Financewith MATLAB Programs by HuuTueHuynh\n",
    "- Fluent Python by Ramalho, Luciano \n",
    "- Python for Finance  by Hilpisch, Yves \n",
    "- Python for Scientists by Stewart, John M. \n",
    "- Mathematical Modeling in Continuum Mechanics by Temam & Miranville\n",
    "\n",
    "Estos y muchos mas libros los pueden encontrar en la Biblioteca."
   ]
  },
  {
   "cell_type": "markdown",
   "metadata": {},
   "source": [
    "<script>\n",
    "  $(document).ready(function(){\n",
    "    $('div.prompt').hide();\n",
    "    $('div.back-to-top').hide();\n",
    "    $('nav#menubar').hide();\n",
    "    $('.breadcrumb').hide();\n",
    "    $('.hidden-print').hide();\n",
    "  });\n",
    "</script>\n",
    "\n",
    "<footer id=\"attribution\" style=\"float:right; color:#808080; background:#fff;\">\n",
    "Created with Jupyter by Esteban Jiménez Rodríguez.\n",
    "</footer>"
   ]
  }
 ],
 "metadata": {
  "anaconda-cloud": {},
  "kernelspec": {
   "display_name": "Python 3",
   "language": "python",
   "name": "python3"
  },
  "language_info": {
   "codemirror_mode": {
    "name": "ipython",
    "version": 3
   },
   "file_extension": ".py",
   "mimetype": "text/x-python",
   "name": "python",
   "nbconvert_exporter": "python",
   "pygments_lexer": "ipython3",
   "version": "3.7.6"
  }
 },
 "nbformat": 4,
 "nbformat_minor": 1
}
